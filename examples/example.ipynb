{
 "cells": [
  {
   "cell_type": "code",
   "execution_count": null,
   "id": "1f2562e6",
   "metadata": {},
   "outputs": [],
   "source": [
    "# support async in notebooks, read more about why we need this here: https://pypi.org/project/nest-asyncio/\n",
    "import nest_asyncio\n",
    "\n",
    "nest_asyncio.apply()"
   ]
  },
  {
   "cell_type": "markdown",
   "id": "c952953f",
   "metadata": {},
   "source": [
    "### Logging"
   ]
  },
  {
   "cell_type": "code",
   "execution_count": null,
   "id": "47cd85c3",
   "metadata": {},
   "outputs": [],
   "source": [
    "# configure logging\n",
    "import logging\n",
    "\n",
    "logging.basicConfig(\n",
    "    format=\"{asctime} - {name} - {levelname} - {message}\", style=\"{\", level=\"INFO\"\n",
    ")"
   ]
  },
  {
   "cell_type": "markdown",
   "id": "5864ff87",
   "metadata": {},
   "source": [
    "### Connection\n",
    "\n",
    "The ingestion library requires a connection object from the Firebolt Python SDK. The following cells demonstrate how to create one from the SDK's ResourceManager. Please refer to the SDK documentaiton for additional ways to generate a connection object. If you already have a connection object, you can skip this section!\n",
    "\n",
    "create a .env file in the same directory as this notebook with the following contents (fill in values):\n",
    "```\n",
    "FIREBOLT_USER=''\n",
    "FIREBOLT_PASSWORD=''\n",
    "FIREBOLT_SERVER=''\n",
    "FIREBOLT_DEFAULT_REGION=''\n",
    "```\n"
   ]
  },
  {
   "cell_type": "code",
   "execution_count": null,
   "id": "f8332417",
   "metadata": {},
   "outputs": [],
   "source": [
    "from firebolt.service.manager import ResourceManager\n",
    "from firebolt.common import Settings\n",
    "\n",
    "rm = ResourceManager()"
   ]
  },
  {
   "cell_type": "code",
   "execution_count": null,
   "id": "6217bec1",
   "metadata": {},
   "outputs": [],
   "source": [
    "import time\n",
    "\n",
    "# optionally replace \"\" with the database and engine to which you want to connect.\n",
    "# otherwise, run this as is to create a temp database and engine for demo purposes.\n",
    "default_name = f\"temp_{int(time.time())}\"\n",
    "database_name = \"\" or default_name\n",
    "engine_name = \"\" or default_name\n",
    "table_name = \"\" or default_name\n",
    "\n",
    "database = rm.databases.create(name=database_name, region=\"us-east-1\")\n",
    "engine = rm.engines.create(name=engine_name)\n",
    "engine.attach_to_database(database=rm.databases.get_by_name(name=database_name))\n",
    "engine = engine.start()\n",
    "connection = engine.get_connection()"
   ]
  },
  {
   "cell_type": "markdown",
   "id": "f1fde368",
   "metadata": {},
   "source": [
    "### Table configuration - Python\n",
    "\n",
    "\n",
    "Define a table using native Python."
   ]
  },
  {
   "cell_type": "code",
   "execution_count": null,
   "id": "b99344d2",
   "metadata": {},
   "outputs": [],
   "source": [
    "from firebolt_ingest.model.table import Table, Column, Partition\n",
    "\n",
    "table = Table(\n",
    "    table_name=table_name,\n",
    "    columns=[Column(name=\"col_1\", type=\"STRING\"), Column(name=\"col_2\", type=\"INT\")],\n",
    "    primary_index=[\"col_1\"],\n",
    "    file_type=\"PARQUET\",\n",
    "    object_pattern=[\"*.parquet\"],\n",
    ")"
   ]
  },
  {
   "cell_type": "markdown",
   "id": "50e7e145",
   "metadata": {},
   "source": [
    "### Table configuration - YAML\n",
    "\n",
    "Define a table in YAML. The first cell uses the previous table object and converts it into YAML. The second cell shows how to take a YAML file and parse it into a `Table` object."
   ]
  },
  {
   "cell_type": "code",
   "execution_count": null,
   "id": "04863afb",
   "metadata": {},
   "outputs": [],
   "source": [
    "import yaml\n",
    "\n",
    "table_yaml_config = yaml.dump(table.dict())\n",
    "\n",
    "print(table_yaml_config)"
   ]
  },
  {
   "cell_type": "code",
   "execution_count": null,
   "id": "4bb48014",
   "metadata": {},
   "outputs": [],
   "source": [
    "table = Table.parse_yaml(table_yaml_config)\n",
    "table"
   ]
  },
  {
   "cell_type": "markdown",
   "id": "44d3d663",
   "metadata": {},
   "source": [
    "### Create internal table"
   ]
  },
  {
   "cell_type": "code",
   "execution_count": null,
   "id": "09904bcd",
   "metadata": {},
   "outputs": [],
   "source": [
    "from firebolt_ingest.service.table import TableService\n",
    "\n",
    "ts = TableService(connection)\n",
    "ts.create_internal_table(table=table)"
   ]
  }
 ],
 "metadata": {
  "kernelspec": {
   "display_name": "Python 3 (ipykernel)",
   "language": "python",
   "name": "python3"
  },
  "language_info": {
   "codemirror_mode": {
    "name": "ipython",
    "version": 3
   },
   "file_extension": ".py",
   "mimetype": "text/x-python",
   "name": "python",
   "nbconvert_exporter": "python",
   "pygments_lexer": "ipython3",
   "version": "3.8.12"
  }
 },
 "nbformat": 4,
 "nbformat_minor": 5
}
