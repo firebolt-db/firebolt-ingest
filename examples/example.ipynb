{
 "cells": [
  {
   "cell_type": "code",
   "execution_count": null,
   "id": "1f2562e6",
   "metadata": {},
   "outputs": [],
   "source": [
    "# support async in notebooks, read more about why we need this here: https://pypi.org/project/nest-asyncio/\n",
    "import nest_asyncio\n",
    "\n",
    "nest_asyncio.apply()"
   ]
  },
  {
   "cell_type": "markdown",
   "id": "5864ff87",
   "metadata": {},
   "source": [
    "### Connection\n",
    "\n",
    "The ingestion library requires a connection object from the Firebolt Python SDK. The following cells demonstrate how to create one from the SDK's ResourceManager. Please refer to the SDK documentaiton for additional ways to generate a connection object. If you already have a connection object, you can skip this section!\n",
    "\n",
    "create a .env file in the same directory as this notebook with the following contents (fill in values):\n",
    "\n",
    "```text\n",
    "FIREBOLT_USER=''\n",
    "FIREBOLT_PASSWORD=''\n",
    "FIREBOLT_SERVER=''\n",
    "FIREBOLT_ENGINE=''\n",
    "FIREBOLT_DATABASE=''\n",
    "FIREBOLT_ACCOUNT=''\n",
    "```\n"
   ]
  },
  {
   "cell_type": "code",
   "execution_count": null,
   "id": "2db934ac",
   "metadata": {},
   "outputs": [],
   "source": [
    "%load_ext dotenv\n",
    "%dotenv\n",
    "\n",
    "import os\n",
    "\n",
    "e = os.getenv(\"FIREBOLT_DATABASE\")\n",
    "print(e)"
   ]
  },
  {
   "cell_type": "markdown",
   "id": "3deb4ff8",
   "metadata": {},
   "source": [
    "### Firebolt 1.0 "
   ]
  },
  {
   "cell_type": "code",
   "execution_count": null,
   "id": "634fcf23",
   "metadata": {},
   "outputs": [],
   "source": [
    "from firebolt.service.manager import ResourceManager\n",
    "from firebolt.client.auth import UsernamePassword\n",
    "\n",
    "auth = UsernamePassword(os.getenv(\"FIREBOLT_USER\"), os.getenv(\"FIREBOLT_PASSWORD\"))\n",
    "\n",
    "rm = ResourceManager(\n",
    "    auth=auth,\n",
    "    account_name=os.getenv(\"FIREBOLT_ACCOUNT\"),\n",
    "    api_endpoint=os.getenv(\"FIREBOLT_SERVER\"),\n",
    ")"
   ]
  },
  {
   "cell_type": "markdown",
   "id": "9d8472f0",
   "metadata": {},
   "source": [
    "If FIREBOLT_ENGINE engine and FIREBOLT_DATABASE exist:"
   ]
  },
  {
   "cell_type": "code",
   "execution_count": null,
   "id": "f8332417",
   "metadata": {},
   "outputs": [],
   "source": [
    "engine = rm.engines.get_by_name(name=os.environ[\"FIREBOLT_ENGINE\"])\n",
    "engine.start()"
   ]
  },
  {
   "cell_type": "markdown",
   "id": "493cb20a",
   "metadata": {},
   "source": [
    "If FIREBOLT_ENGINE engine and FIREBOLT_DATABASE don't exist:"
   ]
  },
  {
   "cell_type": "code",
   "execution_count": null,
   "id": "e0d75972",
   "metadata": {},
   "outputs": [],
   "source": [
    "database = rm.databases.create(name=os.getenv(\"FIREBOLT_DATABASE\"), region=\"us-east-1\")\n",
    "engine = rm.engines.create(name=os.environ[\"FIREBOLT_ENGINE\"])\n",
    "engine.attach_to_database(\n",
    "    database=rm.databases.get_by_name(\n",
    "        name=os.getenv(\"FIREBOLT_DATABASE\"),\n",
    "    )\n",
    ")\n",
    "engine = engine.start()"
   ]
  },
  {
   "cell_type": "markdown",
   "id": "40432252",
   "metadata": {},
   "source": [
    "Get a connection to FIREBOLT_DATABASE and FIREBOLT_ENGINE"
   ]
  },
  {
   "cell_type": "code",
   "execution_count": null,
   "id": "4e353f1d",
   "metadata": {},
   "outputs": [],
   "source": [
    "from firebolt.client.auth import UsernamePassword\n",
    "from firebolt.db.connection import connect\n",
    "import os\n",
    "\n",
    "auth = UsernamePassword(os.getenv(\"FIREBOLT_USER\"), os.getenv(\"FIREBOLT_PASSWORD\"))\n",
    "\n",
    "connection = connect(\n",
    "    account_name=os.getenv(\"FIREBOLT_ACCOUNT\"),\n",
    "    engine_name=os.getenv(\"FIREBOLT_ENGINE\"),\n",
    "    database=os.getenv(\"FIREBOLT_DATABASE\"),\n",
    "    auth=auth,\n",
    ")"
   ]
  },
  {
   "cell_type": "markdown",
   "id": "f1fde368",
   "metadata": {},
   "source": [
    "### Table configuration - Python\n",
    "\n",
    "\n",
    "Define a table using native Python."
   ]
  },
  {
   "cell_type": "code",
   "execution_count": null,
   "id": "b99344d2",
   "metadata": {},
   "outputs": [],
   "source": [
    "from firebolt_ingest.table_model import Table, Column\n",
    "import time\n",
    "\n",
    "default_name = f\"temp_{int(time.time())}\"\n",
    "table_name = \"\" or default_name\n",
    "\n",
    "table = Table(\n",
    "    table_name=table_name,\n",
    "    columns=[Column(name=\"col_1\", type=\"STRING\"), Column(name=\"col_2\", type=\"INT\")],\n",
    "    primary_index=[\"col_1\"],\n",
    "    file_type=\"PARQUET\",\n",
    "    object_pattern=\"*.parquet\",\n",
    ")"
   ]
  },
  {
   "cell_type": "markdown",
   "id": "50e7e145",
   "metadata": {},
   "source": [
    "### Table configuration - YAML\n",
    "\n",
    "Define a table in YAML. \n",
    "\n",
    "Yaml config format:\n",
    "```yaml\n",
    "table_name: <Table Namee>\n",
    "primary_index:\n",
    "  - <Primary Index Column>\n",
    "columns:\n",
    "  - name: <Primary Index Column>\n",
    "    type: <Firebolt Column Type>\n",
    "    nullable: false\n",
    "  - name: <Column Name>\n",
    "    type(Optional): <Firebolt Column Type> # default: TEXT\n",
    "    nullable: true/false\n",
    "    extract_partition(Optional): <Column Partition Expression>\n",
    "    alias(Optional): <Alias Column Name>\n",
    "  ...\n",
    "s3_url(Optional): s3://<bucket>/<key>\n",
    "object_pattern: <Object Pattern>\n",
    "file_type: <Supported Firebolt File Type>\n",
    "sync_mode(Optional): overwrite/append\n",
    "partitions(Optional):\n",
    "  - <Partition Expression>\n",
    "```\n",
    "\n",
    "- Firebolt [types](https://docs.firebolt.io/general-reference/data-types.htm)\n",
    "- Supported file [types](https://docs.firebolt.io/sql-reference/commands/create-external-table.html#type)\n",
    "- Url and object (pattern)[https://docs.firebolt.io/sql-reference/commands/create-external-table.html#url-and-object_pattern]\n",
    "- [Partitions](https://docs.firebolt.io/sql-reference/commands/create-external-table.html#partition) in Firebolt\n",
    "- Working with (partitions)[https://docs.firebolt.io/working-with-partitions.html]"
   ]
  },
  {
   "cell_type": "code",
   "execution_count": null,
   "id": "04863afb",
   "metadata": {},
   "outputs": [],
   "source": [
    "from firebolt_ingest.table_model import Table\n",
    "\n",
    "# change example_parquet.yaml as you need\n",
    "with open(\"example_parquet.yaml\", \"r\") as stream:\n",
    "    data_loaded = stream.read()\n",
    "\n",
    "table = Table.parse_yaml(data_loaded)"
   ]
  },
  {
   "cell_type": "markdown",
   "id": "81a93f3d",
   "metadata": {},
   "source": [
    "### Create external table\n",
    "\n",
    "To create an external table you should provide s3_url path to your data in AWS S3.\n",
    "1. You can define s3_url in your YANL config\n",
    "2. You can provide s3_url in AWSSettings object.\n",
    "\n",
    "If you have s3_url in your YANL config and in AWSSettings object, s3_url from YAML file would be taken as a value."
   ]
  },
  {
   "cell_type": "code",
   "execution_count": null,
   "id": "1f8f8c67",
   "metadata": {},
   "outputs": [],
   "source": [
    "%pip install firebolt_cli"
   ]
  },
  {
   "cell_type": "code",
   "execution_count": null,
   "id": "47f38705",
   "metadata": {},
   "outputs": [],
   "source": [
    "from firebolt_cli.utils import (\n",
    "    create_aws_creds_from_environ,\n",
    ")\n",
    "from firebolt_ingest.aws_settings import AWSSettings"
   ]
  },
  {
   "cell_type": "markdown",
   "id": "702a3882",
   "metadata": {},
   "source": [
    "AWSSettings without s3_url:"
   ]
  },
  {
   "cell_type": "code",
   "execution_count": null,
   "id": "c6f4a999",
   "metadata": {},
   "outputs": [],
   "source": [
    "aws_settings = AWSSettings(aws_credentials=create_aws_creds_from_environ())"
   ]
  },
  {
   "cell_type": "markdown",
   "id": "8a191717",
   "metadata": {},
   "source": [
    "AWSSettings with s3_url:"
   ]
  },
  {
   "cell_type": "code",
   "execution_count": null,
   "id": "b705b831",
   "metadata": {},
   "outputs": [],
   "source": [
    "aws_settings = AWSSettings(\n",
    "    aws_credentials=create_aws_creds_from_environ(), s3_url=\"<BUCKET>/<KEY>\"\n",
    ")"
   ]
  },
  {
   "cell_type": "code",
   "execution_count": null,
   "id": "adac944e",
   "metadata": {},
   "outputs": [],
   "source": [
    "from firebolt_ingest.table_service import TableService\n",
    "\n",
    "ts = TableService(table, connection)"
   ]
  },
  {
   "cell_type": "markdown",
   "id": "33feb9b0",
   "metadata": {},
   "source": [
    "### Create external table"
   ]
  },
  {
   "cell_type": "code",
   "execution_count": null,
   "id": "763529f1",
   "metadata": {},
   "outputs": [],
   "source": [
    "ts.create_external_table(aws_settings)"
   ]
  },
  {
   "cell_type": "markdown",
   "id": "44d3d663",
   "metadata": {},
   "source": [
    "### Create internal table"
   ]
  },
  {
   "cell_type": "code",
   "execution_count": null,
   "id": "09904bcd",
   "metadata": {},
   "outputs": [],
   "source": [
    "ts.create_internal_table()"
   ]
  },
  {
   "cell_type": "markdown",
   "id": "88fcc6e1",
   "metadata": {},
   "source": [
    "### Check if the tables exist"
   ]
  },
  {
   "cell_type": "code",
   "execution_count": null,
   "id": "9692b821",
   "metadata": {},
   "outputs": [],
   "source": [
    "ts.does_external_table_exist()"
   ]
  },
  {
   "cell_type": "code",
   "execution_count": null,
   "id": "6752ba3c",
   "metadata": {},
   "outputs": [],
   "source": [
    "ts.does_internal_table_exist()"
   ]
  },
  {
   "cell_type": "markdown",
   "id": "aff30728",
   "metadata": {},
   "source": [
    "### Insert data from external table to internal table"
   ]
  },
  {
   "cell_type": "code",
   "execution_count": null,
   "id": "fc30063f",
   "metadata": {},
   "outputs": [],
   "source": [
    "ts.insert()"
   ]
  },
  {
   "cell_type": "markdown",
   "id": "9b025cc0",
   "metadata": {},
   "source": [
    "### Verify ingestion"
   ]
  },
  {
   "cell_type": "code",
   "execution_count": null,
   "id": "145e73ba",
   "metadata": {},
   "outputs": [],
   "source": [
    "ts.verify_ingestion()"
   ]
  },
  {
   "cell_type": "markdown",
   "id": "1131f9fe",
   "metadata": {},
   "source": [
    "### Drop external and internal table"
   ]
  },
  {
   "cell_type": "code",
   "execution_count": null,
   "id": "9b1766c2",
   "metadata": {},
   "outputs": [],
   "source": [
    "ts.drop_tables()"
   ]
  }
 ],
 "metadata": {
  "kernelspec": {
   "display_name": "Python 3 (ipykernel)",
   "language": "python",
   "name": "python3"
  },
  "language_info": {
   "codemirror_mode": {
    "name": "ipython",
    "version": 3
   },
   "file_extension": ".py",
   "mimetype": "text/x-python",
   "name": "python",
   "nbconvert_exporter": "python",
   "pygments_lexer": "ipython3",
   "version": "3.10.0"
  }
 },
 "nbformat": 4,
 "nbformat_minor": 5
}
