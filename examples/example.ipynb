{
 "cells": [
  {
   "cell_type": "markdown",
   "id": "b89511f8",
   "metadata": {},
   "source": [
    "This notebook covers how to use the firebolt ingestion tool via the ResourceManager. "
   ]
  },
  {
   "cell_type": "code",
   "execution_count": 1,
   "id": "1f2562e6",
   "metadata": {},
   "outputs": [],
   "source": [
    "# support async in notebooks, read more about why we need this here: https://pypi.org/project/nest-asyncio/\n",
    "import nest_asyncio\n",
    "\n",
    "nest_asyncio.apply()"
   ]
  },
  {
   "cell_type": "markdown",
   "id": "c952953f",
   "metadata": {},
   "source": [
    "### Logging"
   ]
  },
  {
   "cell_type": "code",
   "execution_count": 2,
   "id": "47cd85c3",
   "metadata": {},
   "outputs": [],
   "source": [
    "# configure logging\n",
    "import logging\n",
    "\n",
    "logging.basicConfig(\n",
    "    format=\"{asctime} - {name} - {levelname} - {message}\", style=\"{\", level=\"INFO\"\n",
    ")"
   ]
  },
  {
   "cell_type": "markdown",
   "id": "5864ff87",
   "metadata": {},
   "source": [
    "### Connection\n",
    "\n",
    "The ingestion library requires a connection object from the Firebolt Python SDK. The following cells demonstrate how to create one from the SDK's ResourceManager. Please refer to the SDK documentaiton for additional ways to generate a connection object. If you already have a connection object, you can skip this section!\n",
    "\n",
    "create a .env file in the same directory as this notebook with the following contents (fill in values):\n",
    "```\n",
    "FIREBOLT_USER=''\n",
    "FIREBOLT_PASSWORD=''\n",
    "FIREBOLT_SERVER=''\n",
    "FIREBOLT_DEFAULT_REGION=''\n",
    "```\n"
   ]
  },
  {
   "cell_type": "code",
   "execution_count": 6,
   "id": "f8332417",
   "metadata": {},
   "outputs": [],
   "source": [
    "from firebolt.service.manager import ResourceManager\n",
    "from firebolt.common import Settings\n",
    "\n",
    "rm = ResourceManager()"
   ]
  },
  {
   "cell_type": "code",
   "execution_count": 7,
   "id": "6217bec1",
   "metadata": {},
   "outputs": [
    {
     "name": "stderr",
     "output_type": "stream",
     "text": [
      "2022-03-29 15:05:58,698 - firebolt.service.database - INFO - Creating Database (name=temp_1648591558)\n",
      "2022-03-29 15:05:59,165 - firebolt.service.engine - INFO - Creating Engine (name=temp_1648591558)\n",
      "2022-03-29 15:06:00,328 - firebolt.service.binding - INFO - Attaching Engine (engine_id=926b3673-5a5c-42a5-869c-cccbdc80be04, name=temp_1648591558) to Database (database_id=52988ca2-a73d-4631-932c-fe45993d8828, name=temp_1648591558)\n",
      "2022-03-29 15:06:01,637 - firebolt.model.engine - INFO - Starting Engine (engine_id=926b3673-5a5c-42a5-869c-cccbdc80be04, name=temp_1648591558)\n",
      "2022-03-29 15:07:47,693 - firebolt.model.engine - INFO - Engine status_summary=ENGINE_STATUS_SUMMARY_STARTING_INITIALIZING\n",
      "2022-03-29 15:12:24,605 - firebolt.model.engine - INFO - Engine status_summary=ENGINE_STATUS_SUMMARY_RUNNING\n"
     ]
    }
   ],
   "source": [
    "import time\n",
    "\n",
    "# optionally replace \"\" with the database and engine to which you want to connect.\n",
    "# otherwise, run this as is to create a temp database and engine for demo purposes.\n",
    "default_name = f\"temp_{int(time.time())}\"\n",
    "database_name = \"\" or default_name\n",
    "engine_name = \"\" or default_name\n",
    "table_name = \"\" or default_name\n",
    "\n",
    "database = rm.databases.create(name=database_name, region=\"us-east-1\")\n",
    "engine = rm.engines.create(name=engine_name)\n",
    "engine.attach_to_database(database=rm.databases.get_by_name(name=database_name))\n",
    "engine = engine.start()\n",
    "connection = engine.get_connection()"
   ]
  },
  {
   "cell_type": "markdown",
   "id": "f1fde368",
   "metadata": {},
   "source": [
    "### Table Configuration\n",
    "\n",
    "You can define a table configuration via yaml, or in Python. The following cell shows how to do it first in Python, and then as yaml."
   ]
  },
  {
   "cell_type": "code",
   "execution_count": 12,
   "id": "9e0ad73d",
   "metadata": {},
   "outputs": [],
   "source": [
    "# Temp: delete me\n",
    "table_name = \"temp_12345\""
   ]
  },
  {
   "cell_type": "code",
   "execution_count": 27,
   "id": "b99344d2",
   "metadata": {},
   "outputs": [],
   "source": [
    "from firebolt_ingest.model.table import Table, Column, Partition, FileType\n",
    "\n",
    "table = Table(\n",
    "    table_name=table_name,\n",
    "    columns=[Column(name=\"col_1\", type=\"STRING\"), Column(name=\"col_2\", type=\"INT\")],\n",
    "    primary_index=[\"col_1\"],\n",
    "    file_type=FileType.PARQUET,\n",
    "    object_pattern=[\"*.parquet\"],\n",
    ")"
   ]
  },
  {
   "cell_type": "code",
   "execution_count": 20,
   "id": "04863afb",
   "metadata": {},
   "outputs": [
    {
     "name": "stdout",
     "output_type": "stream",
     "text": [
      "columns:\n",
      "- extract_partition: null\n",
      "  name: col_1\n",
      "  type: STRING\n",
      "- extract_partition: null\n",
      "  name: col_2\n",
      "  type: INT\n",
      "compression: null\n",
      "file_type: !!python/object/apply:firebolt_ingest.model.table.FileType\n",
      "- PARQUET\n",
      "object_pattern:\n",
      "- '*.parquet'\n",
      "partitions: []\n",
      "primary_index: []\n",
      "table_name: temp_12345\n",
      "\n"
     ]
    }
   ],
   "source": [
    "import yaml\n",
    "\n",
    "print(yaml.dump(table.dict()))"
   ]
  },
  {
   "cell_type": "code",
   "execution_count": 23,
   "id": "4bb48014",
   "metadata": {},
   "outputs": [
    {
     "ename": "ValidationError",
     "evalue": "1 validation error for Table\nfile_type\n  value is not a valid enumeration member; permitted: 'ORC', 'PARQUET', 'TSV' (type=type_error.enum; enum_values=[<FileType.ORC: 'ORC'>, <FileType.PARQUET: 'PARQUET'>, <FileType.TSV: 'TSV'>])",
     "output_type": "error",
     "traceback": [
      "\u001b[0;31m---------------------------------------------------------------------------\u001b[0m",
      "\u001b[0;31mValidationError\u001b[0m                           Traceback (most recent call last)",
      "Input \u001b[0;32mIn [23]\u001b[0m, in \u001b[0;36m<cell line: 1>\u001b[0;34m()\u001b[0m\n\u001b[0;32m----> 1\u001b[0m table \u001b[38;5;241m=\u001b[39m \u001b[43mTable\u001b[49m\u001b[38;5;241;43m.\u001b[39;49m\u001b[43mparse_yaml\u001b[49m\u001b[43m(\u001b[49m\n\u001b[1;32m      2\u001b[0m \u001b[38;5;124;43;03m\"\"\"\u001b[39;49;00m\n\u001b[1;32m      3\u001b[0m \u001b[38;5;124;43;03mcolumns:\u001b[39;49;00m\n\u001b[1;32m      4\u001b[0m \u001b[38;5;124;43;03m- extract_partition: null\u001b[39;49;00m\n\u001b[1;32m      5\u001b[0m \u001b[38;5;124;43;03m  name: col_1\u001b[39;49;00m\n\u001b[1;32m      6\u001b[0m \u001b[38;5;124;43;03m  type: STRING\u001b[39;49;00m\n\u001b[1;32m      7\u001b[0m \u001b[38;5;124;43;03m- extract_partition: null\u001b[39;49;00m\n\u001b[1;32m      8\u001b[0m \u001b[38;5;124;43;03m  name: col_2\u001b[39;49;00m\n\u001b[1;32m      9\u001b[0m \u001b[38;5;124;43;03m  type: INT\u001b[39;49;00m\n\u001b[1;32m     10\u001b[0m \u001b[38;5;124;43;03mcompression: null\u001b[39;49;00m\n\u001b[1;32m     11\u001b[0m \u001b[38;5;124;43;03mfile_type:\u001b[39;49;00m\n\u001b[1;32m     12\u001b[0m \u001b[38;5;124;43;03m- PARQUET\u001b[39;49;00m\n\u001b[1;32m     13\u001b[0m \u001b[38;5;124;43;03mobject_pattern:\u001b[39;49;00m\n\u001b[1;32m     14\u001b[0m \u001b[38;5;124;43;03m- '*.parquet'\u001b[39;49;00m\n\u001b[1;32m     15\u001b[0m \u001b[38;5;124;43;03mpartitions: []\u001b[39;49;00m\n\u001b[1;32m     16\u001b[0m \u001b[38;5;124;43;03mprimary_index: []\u001b[39;49;00m\n\u001b[1;32m     17\u001b[0m \u001b[38;5;124;43;03mtable_name: temp_12345\u001b[39;49;00m\n\u001b[1;32m     18\u001b[0m \u001b[38;5;124;43;03m\"\"\"\u001b[39;49;00m\u001b[43m)\u001b[49m\n",
      "File \u001b[0;32m~/projects/firebolt-ingest/src/firebolt_ingest/model/__init__.py:22\u001b[0m, in \u001b[0;36mYamlModelMixin.parse_yaml\u001b[0;34m(cls, yaml_obj)\u001b[0m\n\u001b[1;32m     19\u001b[0m \u001b[38;5;129m@classmethod\u001b[39m\n\u001b[1;32m     20\u001b[0m \u001b[38;5;28;01mdef\u001b[39;00m \u001b[38;5;21mparse_yaml\u001b[39m(\u001b[38;5;28mcls\u001b[39m: BaseModelProtocol, yaml_obj: Any):\n\u001b[1;32m     21\u001b[0m     obj \u001b[38;5;241m=\u001b[39m yaml\u001b[38;5;241m.\u001b[39mload(yaml_obj, Loader\u001b[38;5;241m=\u001b[39mLoader)\n\u001b[0;32m---> 22\u001b[0m     \u001b[38;5;28;01mreturn\u001b[39;00m \u001b[38;5;28;43mcls\u001b[39;49m\u001b[38;5;241;43m.\u001b[39;49m\u001b[43mparse_obj\u001b[49m\u001b[43m(\u001b[49m\u001b[43mobj\u001b[49m\u001b[43m)\u001b[49m\n",
      "File \u001b[0;32m~/.pyenv/versions/3.8.12/envs/firebolt-ingest/lib/python3.8/site-packages/pydantic/main.py:578\u001b[0m, in \u001b[0;36mBaseModel.parse_obj\u001b[0;34m(cls, obj)\u001b[0m\n\u001b[1;32m    576\u001b[0m         exc \u001b[38;5;241m=\u001b[39m \u001b[38;5;167;01mTypeError\u001b[39;00m(\u001b[38;5;124mf\u001b[39m\u001b[38;5;124m'\u001b[39m\u001b[38;5;132;01m{\u001b[39;00m\u001b[38;5;28mcls\u001b[39m\u001b[38;5;241m.\u001b[39m\u001b[38;5;18m__name__\u001b[39m\u001b[38;5;132;01m}\u001b[39;00m\u001b[38;5;124m expected dict not \u001b[39m\u001b[38;5;132;01m{\u001b[39;00mobj\u001b[38;5;241m.\u001b[39m\u001b[38;5;18m__class__\u001b[39m\u001b[38;5;241m.\u001b[39m\u001b[38;5;18m__name__\u001b[39m\u001b[38;5;132;01m}\u001b[39;00m\u001b[38;5;124m'\u001b[39m)\n\u001b[1;32m    577\u001b[0m         \u001b[38;5;28;01mraise\u001b[39;00m ValidationError([ErrorWrapper(exc, loc\u001b[38;5;241m=\u001b[39mROOT_KEY)], \u001b[38;5;28mcls\u001b[39m) \u001b[38;5;28;01mfrom\u001b[39;00m \u001b[38;5;21;01me\u001b[39;00m\n\u001b[0;32m--> 578\u001b[0m \u001b[38;5;28;01mreturn\u001b[39;00m \u001b[38;5;28;43mcls\u001b[39;49m\u001b[43m(\u001b[49m\u001b[38;5;241;43m*\u001b[39;49m\u001b[38;5;241;43m*\u001b[39;49m\u001b[43mobj\u001b[49m\u001b[43m)\u001b[49m\n",
      "File \u001b[0;32m~/.pyenv/versions/3.8.12/envs/firebolt-ingest/lib/python3.8/site-packages/pydantic/main.py:406\u001b[0m, in \u001b[0;36mBaseModel.__init__\u001b[0;34m(__pydantic_self__, **data)\u001b[0m\n\u001b[1;32m    404\u001b[0m values, fields_set, validation_error \u001b[38;5;241m=\u001b[39m validate_model(__pydantic_self__\u001b[38;5;241m.\u001b[39m\u001b[38;5;18m__class__\u001b[39m, data)\n\u001b[1;32m    405\u001b[0m \u001b[38;5;28;01mif\u001b[39;00m validation_error:\n\u001b[0;32m--> 406\u001b[0m     \u001b[38;5;28;01mraise\u001b[39;00m validation_error\n\u001b[1;32m    407\u001b[0m \u001b[38;5;28;01mtry\u001b[39;00m:\n\u001b[1;32m    408\u001b[0m     object_setattr(__pydantic_self__, \u001b[38;5;124m'\u001b[39m\u001b[38;5;124m__dict__\u001b[39m\u001b[38;5;124m'\u001b[39m, values)\n",
      "\u001b[0;31mValidationError\u001b[0m: 1 validation error for Table\nfile_type\n  value is not a valid enumeration member; permitted: 'ORC', 'PARQUET', 'TSV' (type=type_error.enum; enum_values=[<FileType.ORC: 'ORC'>, <FileType.PARQUET: 'PARQUET'>, <FileType.TSV: 'TSV'>])"
     ]
    }
   ],
   "source": [
    "table = Table.parse_yaml(\n",
    "    \"\"\"\n",
    "columns:\n",
    "- extract_partition: null\n",
    "  name: col_1\n",
    "  type: STRING\n",
    "- extract_partition: null\n",
    "  name: col_2\n",
    "  type: INT\n",
    "compression: null\n",
    "file_type:\n",
    "- PARQUET\n",
    "object_pattern:\n",
    "- '*.parquet'\n",
    "partitions: []\n",
    "primary_index: []\n",
    "table_name: temp_12345\n",
    "\"\"\"\n",
    ")"
   ]
  },
  {
   "cell_type": "code",
   "execution_count": 28,
   "id": "09904bcd",
   "metadata": {},
   "outputs": [
    {
     "ename": "OperationalError",
     "evalue": "Error executing query:\nInvalid operation error: SQL query not valid.\nSQL query:\n==========\nCREATE FACT TABLE IF NOT EXISTS temp_12345\n(col_1 STRING, col_2 INT, source_file_name STRING, source_file_timestamp DATETIME)\nPRIMARY INDEX (col_1)\n              \u001b[31m^=== ERROR HERE!\u001b[0m\n==========\nError line: 2\nError column: 14\nError message: syntax error, unexpected '('\n",
     "output_type": "error",
     "traceback": [
      "\u001b[0;31m---------------------------------------------------------------------------\u001b[0m",
      "\u001b[0;31mOperationalError\u001b[0m                          Traceback (most recent call last)",
      "Input \u001b[0;32mIn [28]\u001b[0m, in \u001b[0;36m<cell line: 4>\u001b[0;34m()\u001b[0m\n\u001b[1;32m      1\u001b[0m \u001b[38;5;28;01mfrom\u001b[39;00m \u001b[38;5;21;01mfirebolt_ingest\u001b[39;00m\u001b[38;5;21;01m.\u001b[39;00m\u001b[38;5;21;01mservice\u001b[39;00m\u001b[38;5;21;01m.\u001b[39;00m\u001b[38;5;21;01mtable\u001b[39;00m \u001b[38;5;28;01mimport\u001b[39;00m TableService\n\u001b[1;32m      3\u001b[0m ts \u001b[38;5;241m=\u001b[39m TableService(connection)\n\u001b[0;32m----> 4\u001b[0m \u001b[43mts\u001b[49m\u001b[38;5;241;43m.\u001b[39;49m\u001b[43mcreate_internal_table\u001b[49m\u001b[43m(\u001b[49m\u001b[43mtable\u001b[49m\u001b[38;5;241;43m=\u001b[39;49m\u001b[43mtable\u001b[49m\u001b[43m)\u001b[49m\n",
      "File \u001b[0;32m~/projects/firebolt-ingest/src/firebolt_ingest/service/table.py:86\u001b[0m, in \u001b[0;36mTableService.create_internal_table\u001b[0;34m(self, table, add_file_metadata)\u001b[0m\n\u001b[1;32m     83\u001b[0m \u001b[38;5;28;01mif\u001b[39;00m table\u001b[38;5;241m.\u001b[39mpartitions:\n\u001b[1;32m     84\u001b[0m     query \u001b[38;5;241m+\u001b[39m\u001b[38;5;241m=\u001b[39m \u001b[38;5;124mf\u001b[39m\u001b[38;5;124m\"\u001b[39m\u001b[38;5;124mPARTITION BY \u001b[39m\u001b[38;5;132;01m{\u001b[39;00mtable\u001b[38;5;241m.\u001b[39mgenerate_partitions_string(add_file_metadata\u001b[38;5;241m=\u001b[39madd_file_metadata)\u001b[38;5;132;01m}\u001b[39;00m\u001b[38;5;130;01m\\n\u001b[39;00m\u001b[38;5;124m\"\u001b[39m  \u001b[38;5;66;03m# noqa: E501\u001b[39;00m\n\u001b[0;32m---> 86\u001b[0m \u001b[38;5;28;43mself\u001b[39;49m\u001b[38;5;241;43m.\u001b[39;49m\u001b[43mconnection\u001b[49m\u001b[38;5;241;43m.\u001b[39;49m\u001b[43mcursor\u001b[49m\u001b[43m(\u001b[49m\u001b[43m)\u001b[49m\u001b[38;5;241;43m.\u001b[39;49m\u001b[43mexecute\u001b[49m\u001b[43m(\u001b[49m\u001b[43mquery\u001b[49m\u001b[43m,\u001b[49m\u001b[43m \u001b[49m\u001b[43mcolumns_params\u001b[49m\u001b[43m)\u001b[49m\n",
      "File \u001b[0;32m~/.pyenv/versions/3.8.12/envs/firebolt-ingest/lib/python3.8/site-packages/firebolt/db/cursor.py:54\u001b[0m, in \u001b[0;36mCursor.execute\u001b[0;34m(self, query, parameters, set_parameters)\u001b[0m\n\u001b[1;32m     46\u001b[0m \u001b[38;5;129m@wraps\u001b[39m(AsyncBaseCursor\u001b[38;5;241m.\u001b[39mexecute)\n\u001b[1;32m     47\u001b[0m \u001b[38;5;28;01mdef\u001b[39;00m \u001b[38;5;21mexecute\u001b[39m(\n\u001b[1;32m     48\u001b[0m     \u001b[38;5;28mself\u001b[39m,\n\u001b[0;32m   (...)\u001b[0m\n\u001b[1;32m     51\u001b[0m     set_parameters: Optional[Dict] \u001b[38;5;241m=\u001b[39m \u001b[38;5;28;01mNone\u001b[39;00m,\n\u001b[1;32m     52\u001b[0m ) \u001b[38;5;241m-\u001b[39m\u001b[38;5;241m>\u001b[39m \u001b[38;5;28mint\u001b[39m:\n\u001b[1;32m     53\u001b[0m     \u001b[38;5;28;01mwith\u001b[39;00m \u001b[38;5;28mself\u001b[39m\u001b[38;5;241m.\u001b[39m_query_lock\u001b[38;5;241m.\u001b[39mgen_wlock():\n\u001b[0;32m---> 54\u001b[0m         \u001b[38;5;28;01mreturn\u001b[39;00m \u001b[43masync_to_sync\u001b[49m\u001b[43m(\u001b[49m\u001b[38;5;28;43msuper\u001b[39;49m\u001b[43m(\u001b[49m\u001b[43m)\u001b[49m\u001b[38;5;241;43m.\u001b[39;49m\u001b[43mexecute\u001b[49m\u001b[43m,\u001b[49m\u001b[43m \u001b[49m\u001b[38;5;28;43mself\u001b[39;49m\u001b[38;5;241;43m.\u001b[39;49m\u001b[43m_async_job_thread\u001b[49m\u001b[43m)\u001b[49m\u001b[43m(\u001b[49m\n\u001b[1;32m     55\u001b[0m \u001b[43m            \u001b[49m\u001b[43mquery\u001b[49m\u001b[43m,\u001b[49m\u001b[43m \u001b[49m\u001b[43mparameters\u001b[49m\u001b[43m,\u001b[49m\u001b[43m \u001b[49m\u001b[43mset_parameters\u001b[49m\n\u001b[1;32m     56\u001b[0m \u001b[43m        \u001b[49m\u001b[43m)\u001b[49m\n",
      "File \u001b[0;32m~/.pyenv/versions/3.8.12/envs/firebolt-ingest/lib/python3.8/site-packages/firebolt/common/util.py:106\u001b[0m, in \u001b[0;36masync_to_sync.<locals>.sync\u001b[0;34m(*args, **kwargs)\u001b[0m\n\u001b[1;32m    104\u001b[0m     \u001b[38;5;28;01mif\u001b[39;00m \u001b[38;5;129;01mnot\u001b[39;00m async_job_thread:\n\u001b[1;32m    105\u001b[0m         async_job_thread \u001b[38;5;241m=\u001b[39m AsyncJobThread()\n\u001b[0;32m--> 106\u001b[0m     \u001b[38;5;28;01mreturn\u001b[39;00m \u001b[43masync_job_thread\u001b[49m\u001b[38;5;241;43m.\u001b[39;49m\u001b[43mexecute\u001b[49m\u001b[43m(\u001b[49m\u001b[43mf\u001b[49m\u001b[43m(\u001b[49m\u001b[38;5;241;43m*\u001b[39;49m\u001b[43margs\u001b[49m\u001b[43m,\u001b[49m\u001b[43m \u001b[49m\u001b[38;5;241;43m*\u001b[39;49m\u001b[38;5;241;43m*\u001b[39;49m\u001b[43mkwargs\u001b[49m\u001b[43m)\u001b[49m\u001b[43m)\u001b[49m\n\u001b[1;32m    107\u001b[0m \u001b[38;5;28;01mreturn\u001b[39;00m loop\u001b[38;5;241m.\u001b[39mrun_until_complete(f(\u001b[38;5;241m*\u001b[39margs, \u001b[38;5;241m*\u001b[39m\u001b[38;5;241m*\u001b[39mkwargs))\n",
      "File \u001b[0;32m~/.pyenv/versions/3.8.12/envs/firebolt-ingest/lib/python3.8/site-packages/firebolt/common/util.py:89\u001b[0m, in \u001b[0;36mAsyncJobThread.execute\u001b[0;34m(self, coro)\u001b[0m\n\u001b[1;32m     87\u001b[0m thread\u001b[38;5;241m.\u001b[39mjoin()\n\u001b[1;32m     88\u001b[0m \u001b[38;5;28;01mif\u001b[39;00m \u001b[38;5;28mself\u001b[39m\u001b[38;5;241m.\u001b[39mexception:\n\u001b[0;32m---> 89\u001b[0m     \u001b[38;5;28;01mraise\u001b[39;00m \u001b[38;5;28mself\u001b[39m\u001b[38;5;241m.\u001b[39mexception\n\u001b[1;32m     90\u001b[0m \u001b[38;5;28;01mreturn\u001b[39;00m \u001b[38;5;28mself\u001b[39m\u001b[38;5;241m.\u001b[39mresult\n",
      "File \u001b[0;32m~/.pyenv/versions/3.8.12/envs/firebolt-ingest/lib/python3.8/site-packages/firebolt/common/util.py:80\u001b[0m, in \u001b[0;36mAsyncJobThread.run\u001b[0;34m(self, coro)\u001b[0m\n\u001b[1;32m     78\u001b[0m     \u001b[38;5;28mself\u001b[39m\u001b[38;5;241m.\u001b[39m_initialize_loop()\n\u001b[1;32m     79\u001b[0m     \u001b[38;5;28;01massert\u001b[39;00m \u001b[38;5;28mself\u001b[39m\u001b[38;5;241m.\u001b[39mloop \u001b[38;5;129;01mis\u001b[39;00m \u001b[38;5;129;01mnot\u001b[39;00m \u001b[38;5;28;01mNone\u001b[39;00m\n\u001b[0;32m---> 80\u001b[0m     \u001b[38;5;28mself\u001b[39m\u001b[38;5;241m.\u001b[39mresult \u001b[38;5;241m=\u001b[39m \u001b[38;5;28;43mself\u001b[39;49m\u001b[38;5;241;43m.\u001b[39;49m\u001b[43mloop\u001b[49m\u001b[38;5;241;43m.\u001b[39;49m\u001b[43mrun_until_complete\u001b[49m\u001b[43m(\u001b[49m\u001b[43mcoro\u001b[49m\u001b[43m)\u001b[49m\n\u001b[1;32m     81\u001b[0m \u001b[38;5;28;01mexcept\u001b[39;00m \u001b[38;5;167;01mBaseException\u001b[39;00m \u001b[38;5;28;01mas\u001b[39;00m e:\n\u001b[1;32m     82\u001b[0m     \u001b[38;5;28mself\u001b[39m\u001b[38;5;241m.\u001b[39mexception \u001b[38;5;241m=\u001b[39m e\n",
      "File \u001b[0;32m~/.pyenv/versions/3.8.12/envs/firebolt-ingest/lib/python3.8/site-packages/nest_asyncio.py:81\u001b[0m, in \u001b[0;36m_patch_loop.<locals>.run_until_complete\u001b[0;34m(self, future)\u001b[0m\n\u001b[1;32m     78\u001b[0m \u001b[38;5;28;01mif\u001b[39;00m \u001b[38;5;129;01mnot\u001b[39;00m f\u001b[38;5;241m.\u001b[39mdone():\n\u001b[1;32m     79\u001b[0m     \u001b[38;5;28;01mraise\u001b[39;00m \u001b[38;5;167;01mRuntimeError\u001b[39;00m(\n\u001b[1;32m     80\u001b[0m         \u001b[38;5;124m'\u001b[39m\u001b[38;5;124mEvent loop stopped before Future completed.\u001b[39m\u001b[38;5;124m'\u001b[39m)\n\u001b[0;32m---> 81\u001b[0m \u001b[38;5;28;01mreturn\u001b[39;00m \u001b[43mf\u001b[49m\u001b[38;5;241;43m.\u001b[39;49m\u001b[43mresult\u001b[49m\u001b[43m(\u001b[49m\u001b[43m)\u001b[49m\n",
      "File \u001b[0;32m~/.pyenv/versions/3.8.12/lib/python3.8/asyncio/futures.py:178\u001b[0m, in \u001b[0;36mFuture.result\u001b[0;34m(self)\u001b[0m\n\u001b[1;32m    176\u001b[0m \u001b[38;5;28mself\u001b[39m\u001b[38;5;241m.\u001b[39m__log_traceback \u001b[38;5;241m=\u001b[39m \u001b[38;5;28;01mFalse\u001b[39;00m\n\u001b[1;32m    177\u001b[0m \u001b[38;5;28;01mif\u001b[39;00m \u001b[38;5;28mself\u001b[39m\u001b[38;5;241m.\u001b[39m_exception \u001b[38;5;129;01mis\u001b[39;00m \u001b[38;5;129;01mnot\u001b[39;00m \u001b[38;5;28;01mNone\u001b[39;00m:\n\u001b[0;32m--> 178\u001b[0m     \u001b[38;5;28;01mraise\u001b[39;00m \u001b[38;5;28mself\u001b[39m\u001b[38;5;241m.\u001b[39m_exception\n\u001b[1;32m    179\u001b[0m \u001b[38;5;28;01mreturn\u001b[39;00m \u001b[38;5;28mself\u001b[39m\u001b[38;5;241m.\u001b[39m_result\n",
      "File \u001b[0;32m~/.pyenv/versions/3.8.12/lib/python3.8/asyncio/tasks.py:280\u001b[0m, in \u001b[0;36mTask.__step\u001b[0;34m(***failed resolving arguments***)\u001b[0m\n\u001b[1;32m    276\u001b[0m \u001b[38;5;28;01mtry\u001b[39;00m:\n\u001b[1;32m    277\u001b[0m     \u001b[38;5;28;01mif\u001b[39;00m exc \u001b[38;5;129;01mis\u001b[39;00m \u001b[38;5;28;01mNone\u001b[39;00m:\n\u001b[1;32m    278\u001b[0m         \u001b[38;5;66;03m# We use the `send` method directly, because coroutines\u001b[39;00m\n\u001b[1;32m    279\u001b[0m         \u001b[38;5;66;03m# don't have `__iter__` and `__next__` methods.\u001b[39;00m\n\u001b[0;32m--> 280\u001b[0m         result \u001b[38;5;241m=\u001b[39m \u001b[43mcoro\u001b[49m\u001b[38;5;241;43m.\u001b[39;49m\u001b[43msend\u001b[49m\u001b[43m(\u001b[49m\u001b[38;5;28;43;01mNone\u001b[39;49;00m\u001b[43m)\u001b[49m\n\u001b[1;32m    281\u001b[0m     \u001b[38;5;28;01melse\u001b[39;00m:\n\u001b[1;32m    282\u001b[0m         result \u001b[38;5;241m=\u001b[39m coro\u001b[38;5;241m.\u001b[39mthrow(exc)\n",
      "File \u001b[0;32m~/.pyenv/versions/3.8.12/envs/firebolt-ingest/lib/python3.8/site-packages/firebolt/async_db/cursor.py:316\u001b[0m, in \u001b[0;36mBaseCursor.execute\u001b[0;34m(self, query, parameters, set_parameters)\u001b[0m\n\u001b[1;32m    313\u001b[0m \u001b[38;5;124;03m\"\"\"Prepare and execute a database query. Return row count.\"\"\"\u001b[39;00m\n\u001b[1;32m    315\u001b[0m params_list \u001b[38;5;241m=\u001b[39m [parameters] \u001b[38;5;28;01mif\u001b[39;00m parameters \u001b[38;5;28;01melse\u001b[39;00m []\n\u001b[0;32m--> 316\u001b[0m \u001b[38;5;28;01mawait\u001b[39;00m \u001b[38;5;28mself\u001b[39m\u001b[38;5;241m.\u001b[39m_do_execute_request(query, params_list, set_parameters)\n\u001b[1;32m    317\u001b[0m \u001b[38;5;28;01mreturn\u001b[39;00m \u001b[38;5;28mself\u001b[39m\u001b[38;5;241m.\u001b[39mrowcount\n",
      "File \u001b[0;32m~/.pyenv/versions/3.8.12/envs/firebolt-ingest/lib/python3.8/site-packages/firebolt/async_db/cursor.py:293\u001b[0m, in \u001b[0;36mBaseCursor._do_execute_request\u001b[0;34m(self, query, parameters, set_parameters)\u001b[0m\n\u001b[1;32m    280\u001b[0m     logger\u001b[38;5;241m.\u001b[39mdebug(\u001b[38;5;124mf\u001b[39m\u001b[38;5;124m\"\u001b[39m\u001b[38;5;124mRunning query: \u001b[39m\u001b[38;5;132;01m{\u001b[39;00mquery\u001b[38;5;132;01m}\u001b[39;00m\u001b[38;5;124m\"\u001b[39m)\n\u001b[1;32m    282\u001b[0m resp \u001b[38;5;241m=\u001b[39m \u001b[38;5;28;01mawait\u001b[39;00m \u001b[38;5;28mself\u001b[39m\u001b[38;5;241m.\u001b[39m_client\u001b[38;5;241m.\u001b[39mrequest(\n\u001b[1;32m    283\u001b[0m     url\u001b[38;5;241m=\u001b[39m\u001b[38;5;124m\"\u001b[39m\u001b[38;5;124m/\u001b[39m\u001b[38;5;124m\"\u001b[39m,\n\u001b[1;32m    284\u001b[0m     method\u001b[38;5;241m=\u001b[39m\u001b[38;5;124m\"\u001b[39m\u001b[38;5;124mPOST\u001b[39m\u001b[38;5;124m\"\u001b[39m,\n\u001b[0;32m   (...)\u001b[0m\n\u001b[1;32m    290\u001b[0m     content\u001b[38;5;241m=\u001b[39mquery,\n\u001b[1;32m    291\u001b[0m )\n\u001b[0;32m--> 293\u001b[0m \u001b[38;5;28;01mawait\u001b[39;00m \u001b[38;5;28mself\u001b[39m\u001b[38;5;241m.\u001b[39m_raise_if_error(resp)\n\u001b[1;32m    294\u001b[0m \u001b[38;5;28mself\u001b[39m\u001b[38;5;241m.\u001b[39m_append_query_data(resp)\n\u001b[1;32m    295\u001b[0m logger\u001b[38;5;241m.\u001b[39minfo(\n\u001b[1;32m    296\u001b[0m     \u001b[38;5;124mf\u001b[39m\u001b[38;5;124m\"\u001b[39m\u001b[38;5;124mQuery fetched \u001b[39m\u001b[38;5;132;01m{\u001b[39;00m\u001b[38;5;28mself\u001b[39m\u001b[38;5;241m.\u001b[39mrowcount\u001b[38;5;132;01m}\u001b[39;00m\u001b[38;5;124m rows in\u001b[39m\u001b[38;5;124m\"\u001b[39m\n\u001b[1;32m    297\u001b[0m     \u001b[38;5;124mf\u001b[39m\u001b[38;5;124m\"\u001b[39m\u001b[38;5;124m \u001b[39m\u001b[38;5;132;01m{\u001b[39;00mtime\u001b[38;5;241m.\u001b[39mtime() \u001b[38;5;241m-\u001b[39m start_time\u001b[38;5;132;01m}\u001b[39;00m\u001b[38;5;124m seconds\u001b[39m\u001b[38;5;124m\"\u001b[39m\n\u001b[1;32m    298\u001b[0m )\n",
      "File \u001b[0;32m~/.pyenv/versions/3.8.12/envs/firebolt-ingest/lib/python3.8/site-packages/firebolt/async_db/cursor.py:232\u001b[0m, in \u001b[0;36mBaseCursor._raise_if_error\u001b[0;34m(self, resp)\u001b[0m\n\u001b[1;32m    230\u001b[0m \u001b[38;5;124;03m\"\"\"Raise a proper error if any\"\"\"\u001b[39;00m\n\u001b[1;32m    231\u001b[0m \u001b[38;5;28;01mif\u001b[39;00m resp\u001b[38;5;241m.\u001b[39mstatus_code \u001b[38;5;241m==\u001b[39m codes\u001b[38;5;241m.\u001b[39mINTERNAL_SERVER_ERROR:\n\u001b[0;32m--> 232\u001b[0m     \u001b[38;5;28;01mraise\u001b[39;00m OperationalError(\n\u001b[1;32m    233\u001b[0m         \u001b[38;5;124mf\u001b[39m\u001b[38;5;124m\"\u001b[39m\u001b[38;5;124mError executing query:\u001b[39m\u001b[38;5;130;01m\\n\u001b[39;00m\u001b[38;5;132;01m{\u001b[39;00mresp\u001b[38;5;241m.\u001b[39mread()\u001b[38;5;241m.\u001b[39mdecode(\u001b[38;5;124m'\u001b[39m\u001b[38;5;124mutf-8\u001b[39m\u001b[38;5;124m'\u001b[39m)\u001b[38;5;132;01m}\u001b[39;00m\u001b[38;5;124m\"\u001b[39m\n\u001b[1;32m    234\u001b[0m     )\n\u001b[1;32m    235\u001b[0m \u001b[38;5;28;01mif\u001b[39;00m resp\u001b[38;5;241m.\u001b[39mstatus_code \u001b[38;5;241m==\u001b[39m codes\u001b[38;5;241m.\u001b[39mFORBIDDEN:\n\u001b[1;32m    236\u001b[0m     \u001b[38;5;28;01mif\u001b[39;00m \u001b[38;5;129;01mnot\u001b[39;00m \u001b[38;5;28;01mawait\u001b[39;00m is_db_available(\u001b[38;5;28mself\u001b[39m\u001b[38;5;241m.\u001b[39mconnection, \u001b[38;5;28mself\u001b[39m\u001b[38;5;241m.\u001b[39mconnection\u001b[38;5;241m.\u001b[39mdatabase):\n",
      "\u001b[0;31mOperationalError\u001b[0m: Error executing query:\nInvalid operation error: SQL query not valid.\nSQL query:\n==========\nCREATE FACT TABLE IF NOT EXISTS temp_12345\n(col_1 STRING, col_2 INT, source_file_name STRING, source_file_timestamp DATETIME)\nPRIMARY INDEX (col_1)\n              \u001b[31m^=== ERROR HERE!\u001b[0m\n==========\nError line: 2\nError column: 14\nError message: syntax error, unexpected '('\n"
     ]
    }
   ],
   "source": [
    "from firebolt_ingest.service.table import TableService\n",
    "\n",
    "ts = TableService(connection)\n",
    "ts.create_internal_table(table=table)"
   ]
  }
 ],
 "metadata": {
  "kernelspec": {
   "display_name": "Python 3 (ipykernel)",
   "language": "python",
   "name": "python3"
  },
  "language_info": {
   "codemirror_mode": {
    "name": "ipython",
    "version": 3
   },
   "file_extension": ".py",
   "mimetype": "text/x-python",
   "name": "python",
   "nbconvert_exporter": "python",
   "pygments_lexer": "ipython3",
   "version": "3.8.12"
  }
 },
 "nbformat": 4,
 "nbformat_minor": 5
}
