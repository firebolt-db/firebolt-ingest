{
 "cells": [
  {
   "cell_type": "code",
   "execution_count": 1,
   "id": "1f2562e6",
   "metadata": {},
   "outputs": [],
   "source": [
    "# support async in notebooks, read more about why we need this here: https://pypi.org/project/nest-asyncio/\n",
    "import nest_asyncio\n",
    "\n",
    "nest_asyncio.apply()"
   ]
  },
  {
   "cell_type": "markdown",
   "id": "c952953f",
   "metadata": {},
   "source": [
    "### Logging"
   ]
  },
  {
   "cell_type": "code",
   "execution_count": 2,
   "id": "47cd85c3",
   "metadata": {},
   "outputs": [],
   "source": [
    "# configure logging\n",
    "import logging\n",
    "\n",
    "logging.basicConfig(\n",
    "    format=\"{asctime} - {name} - {levelname} - {message}\", style=\"{\", level=\"INFO\"\n",
    ")"
   ]
  },
  {
   "cell_type": "markdown",
   "id": "5864ff87",
   "metadata": {},
   "source": [
    "### Connection\n",
    "\n",
    "The ingestion library requires a connection object from the Firebolt Python SDK. The following cells demonstrate how to create one from the SDK's ResourceManager. Please refer to the SDK documentaiton for additional ways to generate a connection object. If you already have a connection object, you can skip this section!\n",
    "\n",
    "create a .env file in the same directory as this notebook with the following contents (fill in values):\n",
    "```\n",
    "FIREBOLT_USER=''\n",
    "FIREBOLT_PASSWORD=''\n",
    "FIREBOLT_SERVER=''\n",
    "FIREBOLT_DEFAULT_REGION=''\n",
    "```\n"
   ]
  },
  {
   "cell_type": "code",
   "execution_count": 3,
   "id": "f8332417",
   "metadata": {},
   "outputs": [
    {
     "name": "stderr",
     "output_type": "stream",
     "text": [
      "2022-07-01 12:32:03,125 - firebolt.common.settings - WARNING -  Passing connection credentials directly in Settings is deprecated.\n",
      " Please consider passing Auth object instead.\n",
      " Examples:\n",
      "  >>> from firebolt.client.auth import UsernamePassword\n",
      "  >>> ...\n",
      "  >>> settings = Settings(auth=UsernamePassword(username, password), ...)\n",
      " or\n",
      "  >>> from firebolt.client.auth import Token\n",
      "  >>> ...\n",
      "  >>> settings = Settings(auth=Token(access_token), ...)\n"
     ]
    }
   ],
   "source": [
    "from firebolt.service.manager import ResourceManager\n",
    "from firebolt.common import Settings\n",
    "\n",
    "rm = ResourceManager()"
   ]
  },
  {
   "cell_type": "code",
   "execution_count": 4,
   "id": "4e353f1d",
   "metadata": {},
   "outputs": [
    {
     "data": {
      "text/plain": [
       "<firebolt.service.manager.ResourceManager at 0x7fd019dfaa30>"
      ]
     },
     "execution_count": 4,
     "metadata": {},
     "output_type": "execute_result"
    }
   ],
   "source": [
    "rm"
   ]
  },
  {
   "cell_type": "code",
   "execution_count": 5,
   "id": "6217bec1",
   "metadata": {},
   "outputs": [
    {
     "name": "stderr",
     "output_type": "stream",
     "text": [
      "2022-07-01 12:32:04,112 - firebolt.service.database - INFO - Creating Database (name=temp_1656671523)\n",
      "2022-07-01 12:32:05,548 - firebolt.service.engine - INFO - Creating Engine (name=temp_1656671523)\n",
      "2022-07-01 12:32:09,261 - firebolt.service.binding - INFO - Attaching Engine (engine_id=4877cbd3-5243-4847-96ed-1123999d9354, name=temp_1656671523) to Database (database_id=79bab674-096d-4ddd-ba8c-53ebc33f7372, name=temp_1656671523)\n",
      "2022-07-01 12:32:13,838 - firebolt.model.engine - INFO - Starting Engine (engine_id=4877cbd3-5243-4847-96ed-1123999d9354, name=temp_1656671523)\n",
      "2022-07-01 12:34:25,745 - firebolt.model.engine - INFO - Engine status_summary=ENGINE_STATUS_SUMMARY_STARTING_INITIALIZING\n",
      "2022-07-01 12:37:07,127 - firebolt.model.engine - INFO - Engine status_summary=ENGINE_STATUS_SUMMARY_RUNNING\n"
     ]
    }
   ],
   "source": [
    "import time\n",
    "\n",
    "# optionally replace \"\" with the database and engine to which you want to connect.\n",
    "# otherwise, run this as is to create a temp database and engine for demo purposes.\n",
    "default_name = f\"temp_{int(time.time())}\"\n",
    "database_name = \"\" or default_name\n",
    "engine_name = \"\" or default_name\n",
    "table_name = \"\" or default_name\n",
    "\n",
    "database = rm.databases.create(name=database_name, region=\"us-east-1\")\n",
    "engine = rm.engines.create(name=engine_name)\n",
    "engine.attach_to_database(database=rm.databases.get_by_name(name=database_name))\n",
    "engine = engine.start()\n",
    "connection = engine.get_connection()"
   ]
  },
  {
   "cell_type": "markdown",
   "id": "f1fde368",
   "metadata": {},
   "source": [
    "### Table configuration - Python\n",
    "\n",
    "\n",
    "Define a table using native Python."
   ]
  },
  {
   "cell_type": "code",
   "execution_count": 6,
   "id": "b99344d2",
   "metadata": {},
   "outputs": [],
   "source": [
    "from firebolt_ingest.table_model import Table, Column, Partition\n",
    "\n",
    "table = Table(\n",
    "    table_name=table_name,\n",
    "    columns=[Column(name=\"col_1\", type=\"STRING\"), Column(name=\"col_2\", type=\"INT\")],\n",
    "    primary_index=[\"col_1\"],\n",
    "    file_type=\"PARQUET\",\n",
    "    object_pattern=[\"*.parquet\"],\n",
    ")"
   ]
  },
  {
   "cell_type": "markdown",
   "id": "50e7e145",
   "metadata": {},
   "source": [
    "### Table configuration - YAML\n",
    "\n",
    "Define a table in YAML. The first cell uses the previous table object and converts it into YAML. The second cell shows how to take a YAML file and parse it into a `Table` object."
   ]
  },
  {
   "cell_type": "code",
   "execution_count": 7,
   "id": "04863afb",
   "metadata": {},
   "outputs": [
    {
     "name": "stdout",
     "output_type": "stream",
     "text": [
      "columns:\n",
      "- alias: null\n",
      "  extract_partition: null\n",
      "  name: col_1\n",
      "  nullable: null\n",
      "  type: STRING\n",
      "  unique: null\n",
      "- alias: null\n",
      "  extract_partition: null\n",
      "  name: col_2\n",
      "  nullable: null\n",
      "  type: INT\n",
      "  unique: null\n",
      "compression: null\n",
      "csv_skip_header_row: null\n",
      "file_type: PARQUET\n",
      "json_parse_as_text: null\n",
      "object_pattern:\n",
      "- '*.parquet'\n",
      "partitions: []\n",
      "primary_index:\n",
      "- col_1\n",
      "table_name: temp_1656671523\n",
      "\n"
     ]
    }
   ],
   "source": [
    "import yaml\n",
    "\n",
    "table_yaml_config = yaml.dump(table.dict())\n",
    "\n",
    "print(table_yaml_config)"
   ]
  },
  {
   "cell_type": "code",
   "execution_count": 8,
   "id": "4bb48014",
   "metadata": {},
   "outputs": [
    {
     "data": {
      "text/plain": [
       "Table(table_name='temp_1656671523', columns=[Column(name='col_1', alias=None, type='STRING', extract_partition=None, nullable=None, unique=None), Column(name='col_2', alias=None, type='INT', extract_partition=None, nullable=None, unique=None)], primary_index=['col_1'], partitions=[], file_type='PARQUET', object_pattern=['*.parquet'], compression=None, csv_skip_header_row=None, json_parse_as_text=None)"
      ]
     },
     "execution_count": 8,
     "metadata": {},
     "output_type": "execute_result"
    }
   ],
   "source": [
    "table = Table.parse_yaml(table_yaml_config)\n",
    "table"
   ]
  },
  {
   "cell_type": "markdown",
   "id": "44d3d663",
   "metadata": {},
   "source": [
    "### Create internal table"
   ]
  },
  {
   "cell_type": "code",
   "execution_count": 9,
   "id": "09904bcd",
   "metadata": {},
   "outputs": [
    {
     "name": "stderr",
     "output_type": "stream",
     "text": [
      "2022-07-01 12:37:09,880 - firebolt.async_db.cursor - INFO - Query fetched 2 rows in 1.1922521591186523 seconds\n"
     ]
    }
   ],
   "source": [
    "from firebolt_ingest.table_service import TableService\n",
    "\n",
    "ts = TableService(table, connection)\n",
    "ts.create_internal_table()"
   ]
  },
  {
   "cell_type": "code",
   "execution_count": null,
   "id": "fc30063f",
   "metadata": {},
   "outputs": [],
   "source": []
  }
 ],
 "metadata": {
  "kernelspec": {
   "display_name": "Python 3 (ipykernel)",
   "language": "python",
   "name": "python3"
  },
  "language_info": {
   "codemirror_mode": {
    "name": "ipython",
    "version": 3
   },
   "file_extension": ".py",
   "mimetype": "text/x-python",
   "name": "python",
   "nbconvert_exporter": "python",
   "pygments_lexer": "ipython3",
   "version": "3.8.12"
  }
 },
 "nbformat": 4,
 "nbformat_minor": 5
}
